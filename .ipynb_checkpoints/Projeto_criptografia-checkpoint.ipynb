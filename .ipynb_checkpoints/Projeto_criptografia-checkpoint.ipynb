{
 "cells": [
  {
   "cell_type": "code",
   "execution_count": 1,
   "id": "f3c6e951",
   "metadata": {},
   "outputs": [
    {
     "name": "stdout",
     "output_type": "stream",
     "text": [
      "Teste\n"
     ]
    }
   ],
   "source": [
    "print('Teste')"
   ]
  },
  {
   "cell_type": "markdown",
   "id": "8fb5fa15",
   "metadata": {},
   "source": [
    "## Tipos de cifras"
   ]
  },
  {
   "cell_type": "code",
   "execution_count": null,
   "id": "d4074847",
   "metadata": {},
   "outputs": [],
   "source": []
  }
 ],
 "metadata": {
  "kernelspec": {
   "display_name": "Python 3 (ipykernel)",
   "language": "python",
   "name": "python3"
  },
  "language_info": {
   "codemirror_mode": {
    "name": "ipython",
    "version": 3
   },
   "file_extension": ".py",
   "mimetype": "text/x-python",
   "name": "python",
   "nbconvert_exporter": "python",
   "pygments_lexer": "ipython3",
   "version": "3.9.6"
  }
 },
 "nbformat": 4,
 "nbformat_minor": 5
}
